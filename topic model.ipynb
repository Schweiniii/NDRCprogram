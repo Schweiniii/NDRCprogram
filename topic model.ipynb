{
 "cells": [
  {
   "cell_type": "code",
   "execution_count": 1,
   "metadata": {},
   "outputs": [
    {
     "name": "stderr",
     "output_type": "stream",
     "text": [
      "Building prefix dict from the default dictionary ...\n",
      "Loading model from cache C:\\Users\\ADMINI~1\\AppData\\Local\\Temp\\jieba.cache\n",
      "Loading model cost 1.485 seconds.\n",
      "Prefix dict has been built succesfully.\n"
     ]
    }
   ],
   "source": [
    "import jieba\n",
    "from pprint import pprint\n",
    "import re\n",
    "import docx\n",
    "from docx import Document\n",
    "pattern = re.compile(r'^第[\\u4e00-\\u9fa5]+章$')\n",
    "jieba.load_userdict('E:\\\\规划资料\\\\plan_entity\\\\规划及实体\\\\v50_entityresult.txt')"
   ]
  },
  {
   "cell_type": "code",
   "execution_count": 10,
   "metadata": {},
   "outputs": [],
   "source": [
    "def read_docx(path):\n",
    "    document = Document(path)\n",
    "    str =[]\n",
    "    for paragraph in document.paragraphs:\n",
    "        if(paragraph.text != \"\"):\n",
    "#             print(paragraph.text)\n",
    "#             print('#'*20)\n",
    "            wordlist = seg_sentence(paragraph.text)\n",
    "            #print(wordlist)\n",
    "            str.append(wordlist)\n",
    "    return str\n",
    "\n",
    "def stopwordslist(filepath):  \n",
    "    stopwords = [line.strip() for line in open(filepath, 'r').readlines()]  \n",
    "    return stopwords \n",
    "def seg_sentence(sentence):  \n",
    "    sentence_seged = jieba.cut(sentence.strip())  \n",
    "    stopwords = stopwordslist('E:\\\\规划资料\\\\规划收集\\\\1 国家规划\\\\stop_words(去节).txt')  # 这里加载停用词的路径 \n",
    "#     stopwords = stopwordslist('E:\\\\规划资料\\\\规划收集\\\\1 国家规划\\\\stop_words(去章节).txt')  # 这里加载停用词的路径 \n",
    "#     stopwords = stopwordslist('E:\\\\规划资料\\\\规划收集\\\\1 国家规划\\\\stop_words(去章节小词).txt')\n",
    "    outstr = []  \n",
    "    for word in sentence_seged:  \n",
    "        if word not in stopwords:  \n",
    "            if word != '\\t':  \n",
    "                outstr .append(word)\n",
    "                #outstr += \" \"  \n",
    "    return outstr  "
   ]
  },
  {
   "cell_type": "code",
   "execution_count": 8,
   "metadata": {},
   "outputs": [
    {
     "name": "stdout",
     "output_type": "stream",
     "text": [
      "~$省国民经济和社会发展第十三个五年规划纲要.docx   Error: 更新失败\n",
      "“十三五”生态环境保护规划.docx 更新成功\n",
      "“十三五”重点流域水环境综合治理建设规划.docx 更新成功\n",
      "上海市环境保护和生态建设“十三五”规划.docx 更新成功\n",
      "全国生态保护“十三五”规划纲要.docx 更新成功\n",
      "内蒙古自治区生态环境保护“十三五”规划.docx 更新成功\n",
      "北京市“十三五”时期城乡环境建设规划.docx 更新成功\n",
      "北京市“十三五”时期环境保护和生态建设规划.docx 更新成功\n",
      "北京市“十三五”时期环境噪声污染防治工作方案.docx 更新成功\n",
      "北京市“十三五”时期生态保护工作方案.docx 更新成功\n",
      "四川省“十三五”环境保护规划.docx 更新成功\n",
      "四川省“十三五”生态保护与建设规划.docx 更新成功\n",
      "国家环境保护“十三五”科技发展规划纲要.docx 更新成功\n",
      "宁夏回族自治区环境保护“十三五”规划.docx 更新成功\n",
      "宁夏生态保护与建设“十三五”规划.docx 更新成功\n",
      "山东省生态环境保护“十三五”规划.docx 更新成功\n",
      "山西省“十三五”环境保护规划.docx 更新成功\n",
      "崇明世界级生态岛发展“十三五”规划.docx 更新成功\n",
      "广东省农村环境保护“十三五”的规划.docx 更新成功\n",
      "广西村镇建设和人居环境改善“十三五”规划.docx 更新成功\n",
      "广西环境保护和生态建设“十三五”规划.docx 更新成功\n",
      "广西现代生态养殖“十三五”规划（2016—2020年）.docx 更新成功\n",
      "河北省海洋环境保护规划（2016—2020年）.docx 更新成功\n",
      "浙江省地质灾害防治与地质环境保护“十三五”规划.docx 更新成功\n",
      "浙江省生态环境保护“十三五”规划.docx 更新成功\n",
      "海南省生态保护和建设行动计划（2017—2020年）.docx 更新成功\n",
      "海南省生态环境保护“十三五”规划.docx 更新成功\n",
      "湖南省环境监管能力建设“十三五”规划.docx 更新成功\n",
      "甘肃省“十三五”环境保护规划.docx 更新成功\n",
      "福建省“十三五”生态省建设专项规划.docx 更新成功\n",
      "辽宁省环境保护“十三五”规划.docx 更新成功\n",
      "鄂西生态文化旅游圈发展“十三五”规划.docx 更新成功\n",
      "长春市生态市建设规划纲要.docx 更新成功\n",
      "陕西省“十三五”环境保护规划.docx 更新成功\n",
      "陕西省“十三五”生态环境保护规划.docx 更新成功\n",
      "黑龙江省生态环境保护“十三五”规划.docx 更新成功\n"
     ]
    }
   ],
   "source": [
    "import os\n",
    "filepath=\"E:\\\\规划资料\\\\plan_entity\\\\规划及实体\\\\plan_data\"\n",
    "def update_model(filepath):\n",
    "    for parent, dirnames, filenames in os.walk(filepath):\n",
    "        for filepath in filenames:\n",
    "            try:\n",
    "                string = read_docx(os.path.join(\"E:\\\\规划资料\\\\plan_entity\\\\规划及实体\\\\plan_data\",filepath))\n",
    "    #             print(string)\n",
    "            except:\n",
    "                print(filepath,\"  Error: 更新失败\")\n",
    "            else:\n",
    "                corpus = [diction.doc2bow(text) for text in string]\n",
    "                tfidf = models.TfidfModel(corpus)\n",
    "                corpus_tfidf = tfidf[corpus]\n",
    "                lda_country.update(corpus_tfidf)\n",
    "                print(filepath,\"更新成功\")\n",
    "                \n",
    "update_model(filepath)"
   ]
  },
  {
   "cell_type": "code",
   "execution_count": 32,
   "metadata": {},
   "outputs": [],
   "source": [
    "\n",
    "path = \"E:\\\\规划资料\\\\plan_entity\\\\规划及实体\\\\国家环境保护“十三五”环境与健康工作规划.docx\"\n",
    "path1 = 'E:\\\\规划资料\\\\生态\\\\北京—第三篇建设绿色低碳生态家园.docx'\n",
    "path2 = 'E:\\\\规划资料\\\\生态\\\\黑龙江—第五篇巩固提升整体生态化优势.docx'\n",
    "path3 = 'E:\\\\规划资料\\\\生态\\\\国家—第十篇 加快改善生态环境.docx'\n",
    "\n",
    "# str_country = read_docx(path)\n",
    "# str_beijin = read_docx(path1)\n",
    "str_heilongjiang = read_docx(path2)\n",
    "# print(len(str_heilongjiang))\n",
    "# print(str_country)\n",
    "#print(str_tianjin)"
   ]
  },
  {
   "cell_type": "code",
   "execution_count": 12,
   "metadata": {},
   "outputs": [],
   "source": [
    "def process_str(str):\n",
    "    index = []\n",
    "    for i in range(len(str)):\n",
    "#         print(str[i])\n",
    "        result1 = re.search(pattern,str[i][0])\n",
    "        if(result1):\n",
    "            index.append(i)\n",
    "    print(index)\n",
    "    chapter = []\n",
    "    for id in range(len(index)-1):\n",
    "        chapter.append(list(str[index[id]:index[id + 1]]))\n",
    "    chapter.append(list(str[index[-1]:]))\n",
    "    return chapter\n",
    "\n",
    "# print(str_country[2][0]) \n",
    "def process_to_one_chapter(str):\n",
    "    str_chapter = []\n",
    "    for i in range(len(str)):\n",
    "#         print(str_chapter)\n",
    "#         print(i)\n",
    "        if(i == 0):\n",
    "            str_chapter_temp = str[i] \n",
    "        elif(i == 1):\n",
    "            str_chapter_temp.extend(str[i])\n",
    "            str_chapter.append(str_chapter_temp)\n",
    "        else:\n",
    "            result1 = re.search(pattern,str[i][0])\n",
    "            if(result1):\n",
    "                if(i>2):\n",
    "                    str_chapter.append(str_chapter_temp)\n",
    "                str_chapter_temp = str[i]\n",
    "            else:\n",
    "                str_chapter_temp.append(str[i])\n",
    "    return str_chapter\n",
    "# str_country_chapter = process_to_chapter(str_country)\n",
    "# str_beijin_chapter = process_to_chapter(str_beijin)\n",
    "# str_heilongjiang_chapter = process_to_chapter(str_heilongjiang)\n",
    "\n"
   ]
  },
  {
   "cell_type": "code",
   "execution_count": 33,
   "metadata": {},
   "outputs": [
    {
     "name": "stdout",
     "output_type": "stream",
     "text": [
      "[2, 4, 8, 19, 23, 28]\n",
      "6\n"
     ]
    }
   ],
   "source": [
    "# beijin_chapter = process_str(str_beijin)\n",
    "# print(len(beijin_chapter))\n",
    "heilongjiang_chapter = process_str(str_heilongjiang)\n",
    "print(len(heilongjiang_chapter))\n",
    "# country_chapter = process_str(str_country)\n",
    "# print(len(country_chapter))\n",
    "    "
   ]
  },
  {
   "cell_type": "code",
   "execution_count": 4,
   "metadata": {},
   "outputs": [
    {
     "name": "stderr",
     "output_type": "stream",
     "text": [
      "E:\\Software\\Anaconda3\\lib\\site-packages\\gensim\\utils.py:1209: UserWarning: detected Windows; aliasing chunkize to chunkize_serial\n",
      "  warnings.warn(\"detected Windows; aliasing chunkize to chunkize_serial\")\n"
     ]
    }
   ],
   "source": [
    "#  str = str_country+str_tianjin\n",
    "from gensim import corpora, models, similarities\n",
    "import os\n",
    "dic = corpora.Dictionary(str_country)"
   ]
  },
  {
   "cell_type": "code",
   "execution_count": 5,
   "metadata": {},
   "outputs": [
    {
     "name": "stdout",
     "output_type": "stream",
     "text": [
      "~$省国民经济和社会发展第十三个五年规划纲要.docx\n",
      "Error: 没有找到文件或读取文件失败\n",
      "“十三五”生态环境保护规划.docx\n",
      "“十三五”重点流域水环境综合治理建设规划.docx\n",
      "上海市环境保护和生态建设“十三五”规划.docx\n",
      "全国生态保护“十三五”规划纲要.docx\n",
      "内蒙古自治区生态环境保护“十三五”规划.docx\n",
      "北京市“十三五”时期城乡环境建设规划.docx\n",
      "北京市“十三五”时期环境保护和生态建设规划.docx\n",
      "北京市“十三五”时期环境噪声污染防治工作方案.docx\n",
      "北京市“十三五”时期生态保护工作方案.docx\n",
      "四川省“十三五”环境保护规划.docx\n",
      "四川省“十三五”生态保护与建设规划.docx\n",
      "国家环境保护“十三五”科技发展规划纲要.docx\n",
      "宁夏回族自治区环境保护“十三五”规划.docx\n",
      "宁夏生态保护与建设“十三五”规划.docx\n",
      "山东省生态环境保护“十三五”规划.docx\n",
      "山西省“十三五”环境保护规划.docx\n",
      "崇明世界级生态岛发展“十三五”规划.docx\n",
      "广东省农村环境保护“十三五”的规划.docx\n",
      "广西村镇建设和人居环境改善“十三五”规划.docx\n",
      "广西环境保护和生态建设“十三五”规划.docx\n",
      "广西现代生态养殖“十三五”规划（2016—2020年）.docx\n",
      "河北省海洋环境保护规划（2016—2020年）.docx\n",
      "浙江省地质灾害防治与地质环境保护“十三五”规划.docx\n",
      "浙江省生态环境保护“十三五”规划.docx\n",
      "海南省生态保护和建设行动计划（2017—2020年）.docx\n",
      "海南省生态环境保护“十三五”规划.docx\n",
      "湖南省环境监管能力建设“十三五”规划.docx\n",
      "甘肃省“十三五”环境保护规划.docx\n",
      "福建省“十三五”生态省建设专项规划.docx\n",
      "辽宁省环境保护“十三五”规划.docx\n",
      "鄂西生态文化旅游圈发展“十三五”规划.docx\n",
      "长春市生态市建设规划纲要.docx\n",
      "陕西省“十三五”环境保护规划.docx\n",
      "陕西省“十三五”生态环境保护规划.docx\n",
      "黑龙江省生态环境保护“十三五”规划.docx\n"
     ]
    }
   ],
   "source": [
    "filepath=\"E:\\\\规划资料\\\\plan_entity\\\\规划及实体\\\\plan_data\"\n",
    "for parent, dirnames, filenames in os.walk(filepath):\n",
    "    for filepath in filenames:\n",
    "        print(filepath)\n",
    "        try:\n",
    "            string = read_docx(os.path.join(\"E:\\\\规划资料\\\\plan_entity\\\\规划及实体\\\\plan_data\",filepath))\n",
    "        except:\n",
    "            print(\"Error: 没有找到文件或读取文件失败\")\n",
    "        else:                     \n",
    "            dic.add_documents(string)\n",
    "dic.save(\"E:\\\\规划资料\\\\生态\\\\生态(去小词).dic\")\n",
    "# str = str_country + str_beijin + str_heilongjiang\n",
    "\n",
    "# dic = corpora.Dictionary(str)\n",
    "# dic.save(\"E:\\\\规划资料\\\\生态\\\\dic1.dic\")\n",
    "# print(dic)\n",
    "#print(str)"
   ]
  },
  {
   "cell_type": "code",
   "execution_count": 36,
   "metadata": {},
   "outputs": [],
   "source": [
    "from gensim import corpora, models, similarities\n",
    "diction = corpora.Dictionary.load(\"E:\\\\规划资料\\\\生态\\\\生态(去小词).dic\")\n",
    "def lda_topic(str):\n",
    "    corpus = [diction.doc2bow(text) for text in str]\n",
    "    tfidf = models.TfidfModel(corpus)\n",
    "    corpus_tfidf = tfidf[corpus]\n",
    "    lda = models.LdaModel(corpus_tfidf, id2word = diction, num_topics = 10,minimum_probability=0)\n",
    "#     corpus_lda = lda[corpus_tfidf]\n",
    "    #print(corpus_lda)\n",
    "    return lda\n",
    "\n",
    "def train(lda, str):\n",
    "    corpus = [dic.doc2bow(text) for text in str]\n",
    "    tfidf = models.TfidfModel(corpus)\n",
    "    corpus_tfidf = tfidf[corpus]\n",
    "    return lda[corpus_tfidf]\n",
    "\n",
    "def lda_chapter(chapter):\n",
    "    lda_chapter = []\n",
    "    for i in range(len(chapter)):\n",
    "        lda_chapter.append(lda_topic(chapter[i]))\n",
    "    return lda_chapter\n",
    "\n",
    "def print_topic(lda):\n",
    "    for i in range(10):\n",
    "        print(\"第 %d 个主题是：\"%(i))\n",
    "        pprint(lda.print_topic(i))\n",
    "\n",
    "def prin_topic_simlarrity(heilongjiang_train):\n",
    "    for i in range(len(heilongjiang_train)):\n",
    "        print(\"第 %d 章与各个主题的相似度：\"%(i+1))\n",
    "        pprint(heilongjiang_train[i])\n",
    "\n",
    "def str_process_zero(str):\n",
    "    str_copy = str\n",
    "    for i in range(len(str_copy)):\n",
    "        str_copy[0].extend(str_copy[i])\n",
    "    return str_copy\n",
    "\n",
    "\n",
    "def process_to_chapter(heilongjiang_chapter):\n",
    "    hlj_chapter = []\n",
    "    for i in range(len(heilongjiang_chapter)):\n",
    "        temp = []\n",
    "        for j in range(len(heilongjiang_chapter[i])):\n",
    "            temp = temp + heilongjiang_chapter[i][j]\n",
    "    #         print(temp)\n",
    "        hlj_chapter.append(temp)\n",
    "    return hlj_chapter\n",
    "\n",
    "\n",
    "# lda_beijing = lda_chapter(beijin_chapter)\n",
    "# lda_heilongjiang = lda_chapter(heilongjiang_chapter)\n",
    "# lda_tianjin = train(lda,str_tianjin)\n"
   ]
  },
  {
   "cell_type": "code",
   "execution_count": 7,
   "metadata": {},
   "outputs": [
    {
     "name": "stdout",
     "output_type": "stream",
     "text": [
      "第 0 个主题是：\n",
      "('0.000*\"调查\" + 0.000*\"宣传教育\" + 0.000*\"一批\" + 0.000*\"发布\" + 0.000*\"公布\" + '\n",
      " '0.000*\"名录\" + 0.000*\"化学品\" + 0.000*\"谋划\" + 0.000*\"结合实际\" + 0.000*\"复制\"')\n",
      "第 1 个主题是：\n",
      "('0.001*\"制度\" + 0.000*\"试点示范\" + 0.000*\"指导思想\" + 0.000*\"狠抓\" + 0.000*\"信息化水平\" + '\n",
      " '0.000*\"科学化\" + 0.000*\"法治化\" + 0.000*\"精细化\" + 0.000*\"各项\" + 0.000*\"衔接\"')\n",
      "第 2 个主题是：\n",
      "('0.000*\"健康\" + 0.000*\"系列\" + 0.000*\"贯彻\" + 0.000*\"十二五\" + 0.000*\"精神\" + '\n",
      " '0.000*\"环境保护\" + 0.000*\"法\" + 0.000*\"制度\" + 0.000*\"环境保护部\" + 0.000*\"中\"')\n",
      "第 3 个主题是：\n",
      "('0.000*\"信息\" + 0.000*\"实验室\" + 0.000*\"环境基准\" + 0.000*\"研究\" + 0.000*\"方法\" + '\n",
      " '0.000*\"我国\" + 0.000*\"组织\" + 0.000*\"特征\" + 0.000*\"地方\" + 0.000*\"健康\"')\n",
      "第 4 个主题是：\n",
      "('0.000*\"资金投入\" + 0.000*\"资金\" + 0.000*\"组成部分\" + 0.000*\"财政预算\" + 0.000*\"政府基本公共服务\" + '\n",
      " '0.000*\"多渠道\" + 0.000*\"需\" + 0.000*\"效益\" + 0.000*\"投入\" + 0.000*\"筹措\"')\n",
      "第 5 个主题是：\n",
      "('0.000*\"组织领导\" + 0.000*\"形势\" + 0.000*\"环境与健康工作规划\" + 0.000*\"十三五\" + 0.000*\"面临\" + '\n",
      " '0.000*\"环境保护\" + 0.000*\"间\" + 0.000*\"健康工作领导小组协调工作机制\" + 0.000*\"部门\" + '\n",
      " '0.000*\"环境保护部\"')\n",
      "第 6 个主题是：\n",
      "('0.000*\"技术支撑\" + 0.000*\"中共中央国务院\" + 0.000*\"生态环境保护规划\" + 0.000*\"环境风险防控\" + '\n",
      " '0.000*\"有序\" + 0.000*\"合作\" + 0.000*\"国外\" + 0.000*\"意见\" + 0.000*\"精神\" + '\n",
      " '0.000*\"生态文明建设\"')\n",
      "第 7 个主题是：\n",
      "('0.000*\"保障措施\" + 0.000*\"健康素养\" + 0.000*\"社会\" + 0.000*\"暴露\" + 0.000*\"公民\" + '\n",
      " '0.000*\"普及\" + 0.000*\"污染物\" + 0.000*\"研究\" + 0.000*\"试行\" + 0.000*\"施策\"')\n",
      "第 8 个主题是：\n",
      "('0.001*\"规划目标\" + 0.001*\"基本原则\" + 0.000*\"指导思想\" + 0.000*\"人群\" + 0.000*\"重点行业\" + '\n",
      " '0.000*\"暴露\" + 0.000*\"探索\" + 0.000*\"调查\" + 0.000*\"环境健康风险\" + 0.000*\"密切相关\"')\n",
      "第 9 个主题是：\n",
      "('0.000*\"科研力度\" + 0.000*\"重点任务\" + 0.000*\"环境污染\" + 0.000*\"社会\" + 0.000*\"主动\" + '\n",
      " '0.000*\"源头\" + 0.000*\"预防为主\" + 0.000*\"经济政策\" + 0.000*\"高\" + 0.000*\"消除\"')\n"
     ]
    },
    {
     "name": "stderr",
     "output_type": "stream",
     "text": [
      "E:\\Software\\Anaconda3\\lib\\site-packages\\gensim\\models\\ldamodel.py:807: RuntimeWarning: overflow encountered in exp2\n",
      "  perwordbound, np.exp2(-perwordbound), len(chunk), corpus_words\n"
     ]
    }
   ],
   "source": [
    "lda_country = lda_topic(str_country)\n",
    "print_topic(lda_country)"
   ]
  },
  {
   "cell_type": "markdown",
   "metadata": {},
   "source": [
    "# 10个主题"
   ]
  },
  {
   "cell_type": "code",
   "execution_count": 9,
   "metadata": {},
   "outputs": [
    {
     "name": "stdout",
     "output_type": "stream",
     "text": [
      "第 0 个主题是：\n",
      "('0.006*\"生态保护\" + 0.006*\"养殖\" + 0.004*\"自然\" + 0.004*\"分\" + 0.003*\"野生\" + 0.003*\"物种\" '\n",
      " '+ 0.003*\"草原\" + 0.003*\"成效\" + 0.003*\"小康社会\" + 0.003*\"能力建设\"')\n",
      "第 1 个主题是：\n",
      "('0.014*\"指导思想\" + 0.006*\"总体目标\" + 0.003*\"具体目标\" + 0.002*\"工业企业水污染物达标排放\" + '\n",
      " '0.002*\"夯实工作基础\" + 0.002*\"源头抓好水污染防治\" + 0.001*\"农村环境整治\" + 0.001*\"中等生态经济示范城市\" + '\n",
      " '0.001*\"矿产资源开发与保护\" + 0.001*\"水资源开发利用与保护\"')\n",
      "第 2 个主题是：\n",
      "('0.005*\"十二五\" + 0.003*\"出台\" + 0.003*\"贯彻\" + 0.002*\"理念\" + 0.002*\"水污染防治\" + '\n",
      " '0.002*\"贯彻落实\" + 0.002*\"树立\" + 0.002*\"精神\" + 0.002*\"总体布局\" + 0.002*\"四个\"')\n",
      "第 3 个主题是：\n",
      "('0.004*\"规划实施\" + 0.002*\"五年\" + 0.002*\"国民经济\" + 0.002*\"重点领域环境风险防范工程\" + '\n",
      " '0.002*\"生态修复与环境保护工程\" + 0.002*\"大气工业污染源全面达标排放\" + 0.002*\"保护生态良好水体\" + '\n",
      " '0.002*\"健全生态环境保护政绩考核制度\" + 0.002*\"燃煤污染治理\" + 0.002*\"超过\"')\n",
      "第 4 个主题是：\n",
      "('0.003*\"评估考核\" + 0.002*\"农村环境污染治理工程\" + 0.002*\"健全资源环境产权制度\" + 0.002*\"培育森林生态系统\" + '\n",
      " '0.002*\"附表\" + 0.002*\"分类推进土壤污染防治\" + 0.001*\"科技支撑\" + 0.001*\"主要问题\" + '\n",
      " '0.001*\"环保科学化决策能力\" + 0.001*\"环保法治化建设\"')\n",
      "第 5 个主题是：\n",
      "('0.008*\"十三五\" + 0.007*\"面临\" + 0.004*\"形势\" + 0.002*\"时期\" + 0.002*\"重要生态系统恢复治理\" + '\n",
      " '0.002*\"陕西省\" + 0.002*\"面临形势\" + 0.001*\"科技支撑能力\" + 0.001*\"组织领导\" + 0.001*\"美丽乡村建设\"')\n",
      "第 6 个主题是：\n",
      "('0.004*\"领导\" + 0.004*\"生态文明建设\" + 0.003*\"供给侧结构性\" + 0.003*\"干部\" + 0.002*\"人才\" + '\n",
      " '0.002*\"企业生态环境保护责任制度\" + 0.002*\"矿产资源综合开发利用\" + 0.002*\"农田生态系统保护与建设\" + 0.002*\"决策\" '\n",
      " '+ 0.001*\"生态环境空间用途管制\"')\n",
      "第 7 个主题是：\n",
      "('0.003*\"水质\" + 0.003*\"污水\" + 0.003*\"城镇\" + 0.003*\"生态环境保护\" + 0.003*\"科学\" + '\n",
      " '0.003*\"水源\" + 0.002*\"评估\" + 0.002*\"占\" + 0.002*\"协同\" + 0.002*\"地下水\"')\n",
      "第 8 个主题是：\n",
      "('0.003*\"环境保护\" + 0.003*\"基本原则\" + 0.002*\"规划目标\" + 0.002*\"土壤\" + 0.002*\"水体\" + '\n",
      " '0.002*\"环境质量\" + 0.002*\"水\" + 0.002*\"新\" + 0.002*\"环境风险\" + 0.002*\"危险废物\"')\n",
      "第 9 个主题是：\n",
      "('0.002*\"社会共治\" + 0.002*\"城镇化\" + 0.002*\"主要成效\" + 0.002*\"城市生态系统\" + '\n",
      " '0.002*\"推进再生资源回收利用\" + 0.002*\"水污染防治行动\" + 0.002*\"压力\" + 0.002*\"难度\" + '\n",
      " '0.001*\"核与辐射安全监管\" + 0.001*\"差距\"')\n"
     ]
    }
   ],
   "source": [
    "print_topic(lda_country)"
   ]
  },
  {
   "cell_type": "code",
   "execution_count": 34,
   "metadata": {},
   "outputs": [
    {
     "name": "stdout",
     "output_type": "stream",
     "text": [
      "6\n"
     ]
    }
   ],
   "source": [
    "hlj_chapter = process_to_chapter(heilongjiang_chapter)\n",
    "print(len(hlj_chapter))\n",
    "# print(hlj_chapter)"
   ]
  },
  {
   "cell_type": "code",
   "execution_count": 35,
   "metadata": {},
   "outputs": [],
   "source": [
    "heilongjiang_train = train(lda_country,hlj_chapter)"
   ]
  },
  {
   "cell_type": "markdown",
   "metadata": {},
   "source": [
    "# 规划中生态部分与各个主题的相似度"
   ]
  },
  {
   "cell_type": "code",
   "execution_count": 37,
   "metadata": {},
   "outputs": [
    {
     "name": "stdout",
     "output_type": "stream",
     "text": [
      "第 1 章与各个主题的相似度：\n",
      "[(0, 0.1474679),\n",
      " (1, 0.015650913),\n",
      " (2, 0.015650852),\n",
      " (3, 0.01565091),\n",
      " (4, 0.015650917),\n",
      " (5, 0.015650904),\n",
      " (6, 0.0701767),\n",
      " (7, 0.41539636),\n",
      " (8, 0.27305365),\n",
      " (9, 0.015650919)]\n",
      "第 2 章与各个主题的相似度：\n",
      "[(0, 0.0106770955),\n",
      " (1, 0.010677226),\n",
      " (2, 0.010677167),\n",
      " (3, 0.010677222),\n",
      " (4, 0.010677229),\n",
      " (5, 0.010677216),\n",
      " (6, 0.010677224),\n",
      " (7, 0.17061377),\n",
      " (8, 0.74396867),\n",
      " (9, 0.01067723)]\n",
      "第 3 章与各个主题的相似度：\n",
      "[(0, 0.037770774),\n",
      " (1, 0.008217419),\n",
      " (2, 0.011531815),\n",
      " (3, 0.008217416),\n",
      " (4, 0.008217421),\n",
      " (5, 0.008217412),\n",
      " (6, 0.0082174335),\n",
      " (7, 0.284499),\n",
      " (8, 0.6168939),\n",
      " (9, 0.008217421)]\n",
      "第 4 章与各个主题的相似度：\n",
      "[(0, 0.11069229),\n",
      " (1, 0.0116439015),\n",
      " (2, 0.011643858),\n",
      " (3, 0.011643909),\n",
      " (4, 0.011643904),\n",
      " (5, 0.011643895),\n",
      " (6, 0.011643901),\n",
      " (7, 0.4077069),\n",
      " (8, 0.40009353),\n",
      " (9, 0.011643904)]\n",
      "第 5 章与各个主题的相似度：\n",
      "[(0, 0.051773023),\n",
      " (1, 0.012033756),\n",
      " (2, 0.025059378),\n",
      " (3, 0.012033752),\n",
      " (4, 0.012033759),\n",
      " (5, 0.012033748),\n",
      " (6, 0.012033755),\n",
      " (7, 0.21523632),\n",
      " (8, 0.6357288),\n",
      " (9, 0.012033759)]\n",
      "第 6 章与各个主题的相似度：\n",
      "[(0, 0.032643374),\n",
      " (1, 0.010530499),\n",
      " (2, 0.032120842),\n",
      " (3, 0.010530056),\n",
      " (4, 0.010530061),\n",
      " (5, 0.010530054),\n",
      " (6, 0.0105300695),\n",
      " (7, 0.4590051),\n",
      " (8, 0.41304988),\n",
      " (9, 0.010530062)]\n"
     ]
    }
   ],
   "source": [
    "\n",
    "# for i in range(len(heilongjiang_train)):\n",
    "#     print(\"黑龙江第 %d 段与各个主题的相似度：\"%(i+1))\n",
    "#     pprint(heilongjiang_train[i])\n",
    "prin_topic_simlarrity(heilongjiang_train)"
   ]
  },
  {
   "cell_type": "markdown",
   "metadata": {},
   "source": [
    "# 第0个主题所包含的词"
   ]
  },
  {
   "cell_type": "code",
   "execution_count": 24,
   "metadata": {},
   "outputs": [
    {
     "name": "stdout",
     "output_type": "stream",
     "text": [
      "生态保护\n",
      "养殖\n",
      "自然\n",
      "分\n",
      "野生\n",
      "物种\n",
      "草原\n",
      "成效\n",
      "小康社会\n",
      "能力建设\n",
      "动植物\n",
      "河湖\n",
      "自然保护区建设\n",
      "生态系统\n",
      "环境治理\n",
      "生物多样性\n",
      "国家公园\n",
      "污染减排\n",
      "排污权\n",
      "交易\n",
      "畜禽\n",
      "导向\n",
      "区内\n",
      "关闭\n",
      "环保产业\n",
      "发布\n",
      "珍稀\n",
      "有偿\n",
      "运营\n",
      "环境友好\n",
      "差别化\n",
      "分区分类管理\n",
      "重点生态功能区保护\n",
      "指导\n",
      "养殖场\n",
      "结构\n",
      "带动\n",
      "主导\n",
      "吸引\n",
      "一体化\n",
      "文化资源保护\n",
      "配置\n",
      "森林公园\n",
      "流域推进水质改善进程\n",
      "湿地保护\n",
      "粪便污水\n",
      "小区\n",
      "全面落实\n",
      "濒危\n",
      "竞争力\n"
     ]
    }
   ],
   "source": [
    "ids = lda_country.get_topic_terms(topicid = 0,topn = 50)\n",
    "for id in ids:\n",
    "    print(dic[id[0]])"
   ]
  },
  {
   "cell_type": "code",
   "execution_count": null,
   "metadata": {},
   "outputs": [],
   "source": [
    "ids = lda_country.get_topic_terms(topicid = 7,topn = 30)\n",
    "for id in ids:\n",
    "    print(dic[id[0]])"
   ]
  },
  {
   "cell_type": "code",
   "execution_count": 18,
   "metadata": {},
   "outputs": [],
   "source": [
    "news = read_docx('E:\\\\规划资料\\\\生态\\\\新闻稿件.docx')"
   ]
  },
  {
   "cell_type": "markdown",
   "metadata": {},
   "source": [
    "# 新闻段落\n"
   ]
  },
  {
   "cell_type": "code",
   "execution_count": 20,
   "metadata": {},
   "outputs": [
    {
     "name": "stdout",
     "output_type": "stream",
     "text": [
      "['会议', '指出', '大气污染防治行动计划', '简称', '大气', '十条', '实施', '全省', '淘汰', '城市', '建成', '区内', '10', '吨', '小时', '燃煤', '锅炉', '5855', '台', '总', '目标任务', '63.8%', '剩余', '3328', '台', '2016年', '治理', '淘汰', '黄标车', '旧车', '14.2', '万辆', '占', '任务量', '118.2%', '2016年', '全省', '大气环境质量', '大气', '十条', '终期', '考核', '年', '黄标车', '淘汰', '燃煤', '锅炉', '淘汰', '项', '工作', '艰巨', '部门', '明确责任', '强化措施', '确保']\n"
     ]
    }
   ],
   "source": [
    "process_news = str_process_zero(news)\n",
    "len(process_news)\n",
    "print(process_news[1])"
   ]
  },
  {
   "cell_type": "markdown",
   "metadata": {},
   "source": [
    "# 新闻段落与每个主题的相似度"
   ]
  },
  {
   "cell_type": "code",
   "execution_count": 21,
   "metadata": {},
   "outputs": [
    {
     "data": {
      "text/plain": [
       "[(0, 0.041816164),\n",
       " (1, 0.015871473),\n",
       " (2, 0.016007578),\n",
       " (3, 0.015872078),\n",
       " (4, 0.01587148),\n",
       " (5, 0.015871448),\n",
       " (6, 0.01587147),\n",
       " (7, 0.22411668),\n",
       " (8, 0.62283015),\n",
       " (9, 0.015871482)]"
      ]
     },
     "execution_count": 21,
     "metadata": {},
     "output_type": "execute_result"
    }
   ],
   "source": [
    "news_train = train(lda_country,process_news)\n",
    "news_train[1]"
   ]
  },
  {
   "cell_type": "code",
   "execution_count": 23,
   "metadata": {},
   "outputs": [
    {
     "data": {
      "text/plain": [
       "0.62286836"
      ]
     },
     "execution_count": 23,
     "metadata": {},
     "output_type": "execute_result"
    }
   ],
   "source": [
    "news_train[1][8][1]"
   ]
  },
  {
   "cell_type": "code",
   "execution_count": null,
   "metadata": {},
   "outputs": [],
   "source": [
    "lda_country.save(\"E:\\\\规划资料\\\\生态(包含小词).model\")"
   ]
  },
  {
   "cell_type": "code",
   "execution_count": null,
   "metadata": {},
   "outputs": [],
   "source": [
    "from gensim.test.utils import datapath\n",
    "fname = datapath(\"E:\\\\规划资料\\\\生态.model\")\n",
    "lda = models.LdaModel.load(fname, mmap='r')\n",
    "print_topic(lda) "
   ]
  },
  {
   "cell_type": "markdown",
   "metadata": {},
   "source": [
    "# 打印主题"
   ]
  },
  {
   "cell_type": "code",
   "execution_count": null,
   "metadata": {},
   "outputs": [],
   "source": [
    "def print_topic(lda_country,base):\n",
    "    for i in range(len(lda_country)):\n",
    "        pprint(\"第 %d 章主题为：\"%(base+i))\n",
    "        for j in range(0, 5):\n",
    "            pprint(lda_country[i].print_topic(j))"
   ]
  },
  {
   "cell_type": "markdown",
   "metadata": {},
   "source": [
    "# 打印国家规划的主题"
   ]
  },
  {
   "cell_type": "code",
   "execution_count": null,
   "metadata": {},
   "outputs": [],
   "source": [
    "print_topic(lda_country,42)"
   ]
  },
  {
   "cell_type": "markdown",
   "metadata": {},
   "source": [
    "# 打印北京规划的主题"
   ]
  },
  {
   "cell_type": "code",
   "execution_count": null,
   "metadata": {},
   "outputs": [],
   "source": [
    "print_topic(lda_beijing,1)"
   ]
  },
  {
   "cell_type": "markdown",
   "metadata": {},
   "source": [
    "# 打印黑龙江规划的主题"
   ]
  },
  {
   "cell_type": "code",
   "execution_count": null,
   "metadata": {},
   "outputs": [],
   "source": [
    "print_topic(lda_heilongjiang,1)"
   ]
  },
  {
   "cell_type": "code",
   "execution_count": null,
   "metadata": {},
   "outputs": [],
   "source": []
  },
  {
   "cell_type": "code",
   "execution_count": null,
   "metadata": {},
   "outputs": [],
   "source": [
    "# pprint(lda_country)\n",
    "# pprint(lda_country[36])\n",
    "# pprint(lda_country[36][1])\n",
    "list_doc_contry = [i[1][:] for i in lda_country[:28]]\n",
    "pprint(list_doc_contry)\n",
    "\n",
    "# print(len(list_doc_contry))"
   ]
  },
  {
   "cell_type": "code",
   "execution_count": null,
   "metadata": {},
   "outputs": [],
   "source": [
    "list_doc_tianjin = [i[1][1] for i in lda_tianjin]\n",
    "pprint(list_doc_tianjin)\n",
    "# print(len(list_doc_tianjin))"
   ]
  },
  {
   "cell_type": "code",
   "execution_count": null,
   "metadata": {},
   "outputs": [],
   "source": [
    "import numpy as np\n",
    "def simi():\n",
    "    sum = 0\n",
    "    list_doc_contry = [i for i in range(0,len(lda_tianjin))]\n",
    "    list_doc_tianjin = [i for i in range(0,len(lda_tianjin))]\n",
    "    for i in range(0,5):\n",
    "        list_doc_contry[i] = [sim[i][1] for sim in lda_country[:28]]\n",
    "        list_doc_tianjin[i] = [sim[i][1] for sim in lda_tianjin]\n",
    "        sim = np.dot(list_doc_contry[i], list_doc_tianjin[i]) / (np.linalg.norm(list_doc_contry[i]) * np.linalg.norm(list_doc_tianjin[i]))\n",
    "        print(\"第%d维主题的相似度为%f\"%(i+1,sim))\n",
    "        sum += sim\n",
    "        print(sum)\n",
    "    return sum\n",
    "\n",
    "#print(sim)\n",
    "sum = simi()\n",
    "print(sum)"
   ]
  },
  {
   "cell_type": "code",
   "execution_count": null,
   "metadata": {},
   "outputs": [],
   "source": []
  }
 ],
 "metadata": {
  "kernelspec": {
   "display_name": "Python 3",
   "language": "python",
   "name": "python3"
  },
  "language_info": {
   "codemirror_mode": {
    "name": "ipython",
    "version": 3
   },
   "file_extension": ".py",
   "mimetype": "text/x-python",
   "name": "python",
   "nbconvert_exporter": "python",
   "pygments_lexer": "ipython3",
   "version": "3.6.4"
  }
 },
 "nbformat": 4,
 "nbformat_minor": 2
}
